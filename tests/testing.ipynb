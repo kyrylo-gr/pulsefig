{
 "cells": [
  {
   "cell_type": "code",
   "execution_count": 8,
   "metadata": {},
   "outputs": [],
   "source": [
    "from dataclasses import dataclass\n",
    "from scipy import signal\n",
    "import dataclasses\n",
    "import numpy as np\n",
    "from uastyle import colors\n",
    "import matplotlib.pyplot as plt\n",
    "\n",
    "\n",
    "@dataclass\n",
    "class Data:\n",
    "    data: list\n",
    "    start: int = None\n",
    "    end: int = None\n",
    "    x_len: list = 100\n",
    "\n",
    "    def x(self, default_start, default_end):\n",
    "        if self.start is not None and self.end is not None:\n",
    "            return np.linspace(self.start, self.end, self.x_len)\n",
    "        return np.linspace(default_start, default_end, self.x_len)\n",
    "\n",
    "\n",
    "@dataclass\n",
    "class Element:\n",
    "    start: float\n",
    "    end: float\n",
    "    color: str = None\n",
    "    height: int = 1\n",
    "    name: str = \"\"\n",
    "    subname: str = \"\"\n",
    "    x_label: str = \"\"\n",
    "    y_label: str = \"\"\n",
    "    y_coord: float = None\n",
    "    data: Data = None\n",
    "    alpha: float = 1\n",
    "\n",
    "    def get_data(self) -> list[Data]:\n",
    "        if isinstance(self.data, list):\n",
    "            return self.data\n",
    "        else:\n",
    "            return [self.data]\n",
    "\n",
    "    def __call__(self, **kwds):\n",
    "        return dataclasses.replace(self, **kwds)\n",
    "\n",
    "\n",
    "@dataclass\n",
    "class Line:\n",
    "    name: str\n",
    "    elements: list[Element]\n",
    "    color: str = None\n",
    "\n",
    "    def __call__(self, **kwds):\n",
    "        return dataclasses.replace(self, **kwds)"
   ]
  },
  {
   "cell_type": "code",
   "execution_count": 9,
   "metadata": {},
   "outputs": [],
   "source": [
    "from scipy import signal\n",
    "\n",
    "\n",
    "def arrow_between_elements(ax, elm1: Element, elm2: Element, text: str = \"\"):\n",
    "    arrow_between_coordinates(\n",
    "        ax,\n",
    "        (elm1.end, elm1.y_coord + elm1.height / 2),\n",
    "        (elm2.start, elm2.y_coord + elm2.height / 2),\n",
    "        text,\n",
    "    )\n",
    "\n",
    "\n",
    "def arrow_between_coordinates(ax, coord1, coord2, text, ha=\"center\", va=\"bottom\"):\n",
    "    ax.annotate(\n",
    "        \"\",\n",
    "        xy=(coord1[0], coord1[1]),\n",
    "        xycoords=\"data\",\n",
    "        xytext=(coord2[0], coord2[1]),\n",
    "        textcoords=\"data\",\n",
    "        arrowprops=dict(arrowstyle=\"<->\"),\n",
    "    )\n",
    "    if text:\n",
    "        ax.annotate(\n",
    "            text,\n",
    "            ((coord1[0] + coord2[0]) / 2, (coord1[1] + coord2[1]) / 2),\n",
    "            ha=ha,\n",
    "            va=va,\n",
    "        )\n",
    "\n",
    "\n",
    "def const_data(amp, start, end):\n",
    "    return Data(np.array([amp] * 2), x_len=2, start=start, end=end)\n",
    "\n",
    "\n",
    "def draw_lines(ax, lines, margin=0):\n",
    "    time_start = 0\n",
    "    time_end = 0\n",
    "    for line in lines:\n",
    "        for elm in line.elements:\n",
    "            time_start = min(time_start, elm.start - 2)\n",
    "            time_end = max(time_end, elm.end + 1)\n",
    "    time_start = min(time_start, 0)\n",
    "    for i, line in enumerate(lines):\n",
    "        y = 1.5 * i\n",
    "        color = line.color or colors[i]\n",
    "        ax.annotate(line.name, (time_start, y), ha=\"left\", va=\"bottom\", size=14)\n",
    "        ax.plot([time_start, time_end], [y] * 2, color=color)\n",
    "        for elm in line.elements:\n",
    "            elm.y_coord = y\n",
    "            if elm.data is None:\n",
    "                elm.data = Data(np.array([1, 1]), x_len=2)\n",
    "\n",
    "            last_ended = elm.start\n",
    "            data_lst = []\n",
    "            for data in elm.get_data():\n",
    "                elm_start = data.start or elm.start\n",
    "                if last_ended != elm_start:\n",
    "                    new_data = Data(\n",
    "                        np.array([1, 1]), x_len=2, start=last_ended, end=elm_start\n",
    "                    )\n",
    "                    data_lst.append(new_data)\n",
    "                data_lst.append(data)\n",
    "                last_ended = data.end or elm.end\n",
    "\n",
    "            if last_ended != elm.end:\n",
    "                new_data = Data(\n",
    "                    np.array([1, 1]), x_len=2, start=last_ended, end=elm.end\n",
    "                )\n",
    "                data_lst.append(new_data)\n",
    "\n",
    "            for data in data_lst:\n",
    "                ax.fill_between(\n",
    "                    data.x(elm.start, elm.end),\n",
    "                    y + elm.height * data.data / max(data.data),\n",
    "                    [y] * data.x_len,\n",
    "                    color=color,\n",
    "                    alpha=elm.alpha,\n",
    "                )\n",
    "\n",
    "            if elm.subname:\n",
    "                ax.annotate(\n",
    "                    elm.subname,\n",
    "                    ((elm.start + elm.end) / 2, y + elm.height),\n",
    "                    ha=\"center\",\n",
    "                    va=\"bottom\",\n",
    "                )\n",
    "            if elm.name:\n",
    "                ax.annotate(\n",
    "                    elm.name,\n",
    "                    ((elm.start + elm.end) / 2, y + elm.height / 2),\n",
    "                    ha=\"center\",\n",
    "                    va=\"center\",\n",
    "                )\n",
    "            if elm.x_label and not elm.y_label:\n",
    "                arrow_between_coordinates(\n",
    "                    ax,\n",
    "                    (elm.start, y + elm.height / 3),\n",
    "                    (elm.end, y + elm.height / 3),\n",
    "                    elm.x_label,\n",
    "                )\n",
    "            if elm.y_label and not elm.x_label:\n",
    "                arrow_between_coordinates(\n",
    "                    ax,\n",
    "                    ((elm.start + elm.end) / 2, y),\n",
    "                    ((elm.start + elm.end) / 2, y + elm.height),\n",
    "                    elm.y_label,\n",
    "                    ha=\"left\",\n",
    "                    va=\"center\",\n",
    "                )\n",
    "            if elm.y_label and elm.x_label:\n",
    "                arrow_between_coordinates(\n",
    "                    ax,\n",
    "                    (elm.start, y + elm.height / 3),\n",
    "                    (elm.end, y + elm.height / 3),\n",
    "                    elm.x_label,\n",
    "                )\n",
    "                arrow_between_coordinates(\n",
    "                    ax,\n",
    "                    (elm.start + 2 * (elm.end - elm.start) / 3, y),\n",
    "                    (elm.start + 2 * (elm.end - elm.start) / 3, y + elm.height),\n",
    "                    elm.y_label,\n",
    "                    ha=\"left\",\n",
    "                    va=\"center\",\n",
    "                )\n",
    "    ax.set_ylim(0 - margin, y + 1 + margin)"
   ]
  },
  {
   "cell_type": "code",
   "execution_count": 10,
   "metadata": {},
   "outputs": [],
   "source": [
    "def exp_filter(start=0, end=1, points=Data.x_len, tau=None):\n",
    "    tau = tau or points / 5\n",
    "    x = np.linspace(0, 5 * tau, points)\n",
    "    return end + (start - end) * np.exp(-x / tau)"
   ]
  },
  {
   "cell_type": "code",
   "execution_count": 12,
   "metadata": {},
   "outputs": [
    {
     "name": "stderr",
     "output_type": "stream",
     "text": [
      "/var/folders/nh/176gzt1s1jd887n359pc9_jr0000gn/T/ipykernel_5696/3205352423.py:15: DeprecationWarning: Importing gaussian from 'scipy.signal' is deprecated and will raise an error in SciPy 1.13.0. Please use 'scipy.signal.window.gaussian' or the convenience function 'scipy.signal.get_window' instead.\n",
      "  start=4.5, end=5.5, name=\"$\\pi$\", data=Data(signal.gaussian(Data.x_len, std=20))\n"
     ]
    },
    {
     "data": {
      "text/plain": [
       "(-2.45, 7.45, 0.0, 5.5)"
      ]
     },
     "execution_count": 12,
     "metadata": {},
     "output_type": "execute_result"
    },
    {
     "data": {
      "image/png": "[encoded data removed]",
      "text/plain": [
       "<Figure size 800x240 with 1 Axes>"
      ]
     },
     "metadata": {},
     "output_type": "display_data"
    }
   ],
   "source": [
    "# Sideband cooling\n",
    "\n",
    "flux = Element(\n",
    "    start=0,\n",
    "    end=4,\n",
    "    y_label=\"  $\\Delta_\\phi$  \",\n",
    "    alpha=0.5,\n",
    "    data=[Data(exp_filter(0, 1), 0, 0.25), Data(exp_filter(1, 0), 3.75, 4)],\n",
    ")\n",
    "\n",
    "flux_list = [flux(height=h, y_label=\"\") for h in np.arange(0.2, 0.8, 0.2)] + [flux]\n",
    "flux_line = Line(\"flux\", flux_list, color=colors[0])\n",
    "\n",
    "pi = Element(\n",
    "    start=4.5, end=5.5, name=\"$\\pi$\", data=Data(signal.gaussian(Data.x_len, std=20))\n",
    ")\n",
    "\n",
    "readout = Element(start=5.5, end=6)\n",
    "\n",
    "reset = Element(start=0.25, end=3.75, x_label=\"10 $\\mu$s\")\n",
    "\n",
    "reset_line = Line(\"reset\", [reset], color=colors[3])\n",
    "ef_line = Line(\"e-f\", [pi], color=colors[2])\n",
    "readout_line = Line(\"readout\", [readout], color=colors[1])\n",
    "lines = [reset_line, flux_line, readout_line, ef_line]\n",
    "\n",
    "\n",
    "fig, ax = plt.subplots(1, 1, figsize=(8, len(lines) * 0.6))\n",
    "draw_lines(ax, lines)\n",
    "ax.axis(\"off\")\n",
    "# fig.savefig(export_path / \"sideband_cooling_pulses.svg\")"
   ]
  },
  {
   "cell_type": "code",
   "execution_count": null,
   "metadata": {},
   "outputs": [],
   "source": [
    "signal.gaussian"
   ]
  },
  {
   "cell_type": "code",
   "execution_count": 1,
   "metadata": {},
   "outputs": [],
   "source": [
    "%load_ext autoreload\n",
    "%autoreload 2\n",
    "\n",
    "import matplotlib.pyplot as plt\n",
    "import pulsefig\n",
    "from pulsefig.element import Element\n",
    "from pulsefig.line import Line, LineEnsemble\n",
    "import numpy as np"
   ]
  },
  {
   "cell_type": "code",
   "execution_count": 2,
   "metadata": {},
   "outputs": [
    {
     "data": {
      "text/plain": [
       "LineEnsemble with 2 lines :\n",
       "\tLine : e_f\n",
       "\tLine : g_h"
      ]
     },
     "execution_count": 2,
     "metadata": {},
     "output_type": "execute_result"
    },
    {
     "data": {
      "image/png": "[encoded data removed]",
      "text/plain": [
       "<Figure size 640x480 with 1 Axes>"
      ]
     },
     "metadata": {},
     "output_type": "display_data"
    }
   ],
   "source": [
    "fig, ax = plt.subplots(1, 1)\n",
    "ax.axis(\"off\")\n",
    "\n",
    "line1 = Line(\"e_f\").attach_elements(\n",
    "    Element(0, 1)\n",
    "    .set(alpha=0.3, marker=\"0\")\n",
    "    .attach_func(lambda x: np.sin(x * 2 * np.pi), end=0.25)\n",
    "    .attach_func(lambda x: np.exp(-((x - 0.5) ** 2) / 0.05), start=0.5, end=1)\n",
    "    .update_style(alpha=0.3, data_index=0)\n",
    "    .sweep_height(start_alpha=0.1)\n",
    "    .set(subtitle=\"pi\", xlabel=\"dt\"),\n",
    "    Element(2, 4)\n",
    "    .attach_func(lambda x: np.sin(x * 2 * np.pi), end=0.25)\n",
    "    .attach_func(lambda x: np.exp(-((x - 0.5) ** 2) / 0.05), start=0.5, end=1)\n",
    "    .update_style(alpha=0.3, data_index=0)\n",
    "    .sweep_height(start_alpha=0.1),\n",
    ")\n",
    "line2 = Line(\"g_h\").attach_elements(\n",
    "    Element(0, 2)\n",
    "    .set(alpha=0.3, marker=\"0\", subtitle=\"pi\", xlabel=\"dt\", ylabel=\"amp\")\n",
    "    .attach_func(lambda x: np.sin(x * 2 * np.pi), end=0.25)\n",
    "    .attach_func(lambda x: np.exp(-((x - 0.5) ** 2) / 0.05), start=0.5, end=1)\n",
    "    .update_style(alpha=0.3, data_index=0)\n",
    "    .sweep_height(start_alpha=0.1),\n",
    "    Element(duration=4, delay=1)\n",
    "    .attach_func(lambda x: np.sin(x * 2 * np.pi), end=0.25)\n",
    "    .attach_func(lambda x: np.exp(-((x - 0.5) ** 2) / 0.05), start=0.5, end=1)\n",
    "    .update_style(alpha=0.3, data_index=0)\n",
    "    .sweep_height(start_alpha=0.1),\n",
    ")\n",
    "# line2 = Line(\"g_h\").attach_elements(\n",
    "#     Element(0, 1)\n",
    "#     .update_style(color=\"red\", alpha=0.3, data_index=0)\n",
    "#     .sweep_height(start_color=\"tab:red\", start_alpha=0.1),\n",
    "#     Element(2, 4)\n",
    "#     .attach_func(lambda x: np.sin(x * 2 * np.pi), end=0.25)\n",
    "#     .attach_func(lambda x: np.exp(-((x - 0.5) ** 2) / 0.05), start=0.5, end=1)\n",
    "#     .update_style(color=\"blue\", alpha=0.3, data_index=0)\n",
    "#     .sweep_height(start_color=\"tab:blue\", start_alpha=0.1),\n",
    "# )\n",
    "ens = line1 + line2  # .draw(ax)\n",
    "# ens = (line2.copy() + ens).draw(ax)\n",
    "ens.draw(ax)"
   ]
  },
  {
   "cell_type": "code",
   "execution_count": 16,
   "metadata": {},
   "outputs": [
    {
     "name": "stdout",
     "output_type": "stream",
     "text": [
      "set aspect to 0.6666666666666666\n"
     ]
    },
    {
     "data": {
      "text/plain": [
       "0.4583120797097057"
      ]
     },
     "execution_count": 16,
     "metadata": {},
     "output_type": "execute_result"
    },
    {
     "data": {
      "image/png": "[encoded data removed]",
      "text/plain": [
       "<Figure size 600x400 with 1 Axes>"
      ]
     },
     "metadata": {},
     "output_type": "display_data"
    }
   ],
   "source": [
    "reset_line = Line(\"reset\").attach_elements(Element(0, 10).set(xlabel=\"10μs\"))\n",
    "flux_line = Line(\"flux\").attach_elements(\n",
    "    flux_rise := Element.ExpFilter(0, 3.75, duration=0.2)\n",
    "    .set(ylabel=\"  Δᵩ\")\n",
    "    .update_style(alpha=0.3, data_index=0)\n",
    "    .sweep_height(start_alpha=0.1)\n",
    ")\n",
    "\n",
    "ef_line = Line(\"e_f\").attach_elements(\n",
    "    ef_pi := Element.Gaussian(flux_rise, duration=1).set(title=\"π\")\n",
    ")\n",
    "readout_line = Line(\"readout\").attach_elements(Element(ef_pi, duration=1, delay=0.5))\n",
    "ens = ef_line + readout_line + flux_line + reset_line\n",
    "\n",
    "figsize = (1 * 6, 4)  # (2 * 8, len(ens.lines) * 0.8)\n",
    "fig, ax1 = plt.subplots(1, 1, figsize=figsize)\n",
    "\n",
    "ens.config_ax(ax1).draw(ax1)\n",
    "xlim = ax1.get_xlim()\n",
    "ylim = ax1.get_ylim()\n",
    "xs = xlim[1] - xlim[0]\n",
    "ys = ylim[1] - ylim[0]\n",
    "\n",
    "\n",
    "ax1.set_aspect(2)\n",
    "ys / xs"
   ]
  },
  {
   "cell_type": "code",
   "execution_count": 18,
   "metadata": {},
   "outputs": [
    {
     "data": {
      "text/plain": [
       "0.4575"
      ]
     },
     "execution_count": 18,
     "metadata": {},
     "output_type": "execute_result"
    }
   ],
   "source": [
    "0.75 * 0.61"
   ]
  },
  {
   "cell_type": "code",
   "execution_count": 20,
   "metadata": {},
   "outputs": [
    {
     "data": {
      "text/plain": [
       "0.3437340597822793"
      ]
     },
     "execution_count": 20,
     "metadata": {},
     "output_type": "execute_result"
    }
   ],
   "source": [
    " * x =  0.75/(ys / xs)"
   ]
  },
  {
   "cell_type": "code",
   "execution_count": 5,
   "metadata": {},
   "outputs": [
    {
     "data": {
      "text/plain": [
       "[0, 1, 2]"
      ]
     },
     "execution_count": 5,
     "metadata": {},
     "output_type": "execute_result"
    }
   ],
   "source": [
    "[line.y_index for line in ens.lines]"
   ]
  }
 ],
 "metadata": {
  "kernelspec": {
   "display_name": "phd-main",
   "language": "python",
   "name": "python3"
  },
  "language_info": {
   "codemirror_mode": {
    "name": "ipython",
    "version": 3
   },
   "file_extension": ".py",
   "mimetype": "text/x-python",
   "name": "python",
   "nbconvert_exporter": "python",
   "pygments_lexer": "ipython3",
   "version": "3.10.11"
  }
 },
 "nbformat": 4,
 "nbformat_minor": 2
}

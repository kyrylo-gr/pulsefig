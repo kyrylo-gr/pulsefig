{
 "cells": [
  {
   "cell_type": "code",
   "execution_count": 2,
   "metadata": {},
   "outputs": [
    {
     "data": {
      "text/plain": [
       "'/Users/4cd87a/Documents/Projects/PhD/codes/pulsefig/docs/examples'"
      ]
     },
     "execution_count": 2,
     "metadata": {},
     "output_type": "execute_result"
    }
   ],
   "source": [
    "import os\n",
    "\n",
    "current_dir = os.getcwd()  # os.path.dirname(__file__)\n",
    "current_dir\n",
    "\n",
    "main_dir = os.path.dirname(current_dir)\n",
    "main_dir"
   ]
  },
  {
   "cell_type": "code",
   "execution_count": 3,
   "metadata": {},
   "outputs": [
    {
     "data": {
      "text/plain": [
       "['example_1.py']"
      ]
     },
     "execution_count": 3,
     "metadata": {},
     "output_type": "execute_result"
    }
   ],
   "source": [
    "files = os.listdir(current_dir)\n",
    "\n",
    "files_to_analyze = []\n",
    "for file in files:\n",
    "    if file.endswith(\".py\") and file.startswith(\"ex\"):\n",
    "        files_to_analyze.append(file)\n",
    "files_to_analyze"
   ]
  },
  {
   "cell_type": "code",
   "execution_count": 16,
   "metadata": {},
   "outputs": [],
   "source": [
    "def create_markdown(name, docstring, code):\n",
    "    md = \"\"\n",
    "    md += docstring\n",
    "    md += f\"```python\\n{code}\\n```\"\n",
    "    md += f\"\\n ![{name}](figures/{name}.svg)\"\n",
    "    with open(os.path.join(main_dir, name) + \".md\", \"w\") as file:\n",
    "        file.write(md)\n",
    "\n",
    "\n",
    "def create_index(names: list[str]):\n",
    "    md = \"# Different example\\n\"\n",
    "    md += \"Here is examples for different plots\\n\"\n",
    "    for name in names:\n",
    "        nice_name = name.replace(\"_\", \" \").capitalize()\n",
    "        md += f\"\\n### [{nice_name}]({name}.md)\\n\"\n",
    "        md += f\"![{name}](figures/{name}.svg)\\n\"\n",
    "\n",
    "    with open(os.path.join(main_dir, \"index.md\"), \"w\") as file:\n",
    "        file.write(md)"
   ]
  },
  {
   "cell_type": "code",
   "execution_count": 17,
   "metadata": {},
   "outputs": [
    {
     "name": "stdout",
     "output_type": "stream",
     "text": [
      "set aspect to 0.3333333333333333\n"
     ]
    },
    {
     "data": {
      "image/png": "[encoded data removed]",
      "text/plain": [
       "<Figure size 640x480 with 1 Axes>"
      ]
     },
     "metadata": {},
     "output_type": "display_data"
    }
   ],
   "source": [
    "all_names = []\n",
    "for file in files_to_analyze:\n",
    "    total_code = open(file).read()\n",
    "    index_docstring = total_code.find('\"\"\"', 4)\n",
    "    code = total_code[index_docstring + 3 :]\n",
    "    docstring = total_code[3:index_docstring]\n",
    "    name = file[:-3]\n",
    "    create_markdown(name, docstring, code)\n",
    "    exec(total_code)\n",
    "    all_names.append(name)\n",
    "\n",
    "create_index(all_names)"
   ]
  },
  {
   "cell_type": "code",
   "execution_count": null,
   "metadata": {},
   "outputs": [],
   "source": []
  }
 ],
 "metadata": {
  "kernelspec": {
   "display_name": "phd-main",
   "language": "python",
   "name": "python3"
  },
  "language_info": {
   "codemirror_mode": {
    "name": "ipython",
    "version": 3
   },
   "file_extension": ".py",
   "mimetype": "text/x-python",
   "name": "python",
   "nbconvert_exporter": "python",
   "pygments_lexer": "ipython3",
   "version": "3.10.11"
  }
 },
 "nbformat": 4,
 "nbformat_minor": 2
}
